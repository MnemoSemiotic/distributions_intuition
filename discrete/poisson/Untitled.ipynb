{
 "cells": [
  {
   "cell_type": "markdown",
   "metadata": {},
   "source": [
    "$$\n",
    "P(X=2) = {n \\choose 2} p^2 (1 - p)^{n-2}\n",
    "$$\n",
    "\n",
    "$$\n",
    "= {5 \\choose 2} \\bigl (\\frac{1}{2} \\bigr )^2 \\bigl(1 - \\frac{1}{2}\\bigr)^{5-2} \n",
    "$$\n",
    "\n",
    "$$\n",
    "= \\frac{5!}{(5-2)! 2!}\\bigl (\\frac{1}{2}^2 \\bigr ) \\bigl(1 - \\frac{1}{2}\\bigr)^{5-2}\n",
    "$$\n",
    "\n",
    "$$\n",
    "= \\frac{5!}{3! 2!}\\bigl (\\frac{1}{2}^2 \\bigr ) \\bigl(1 - \\frac{1}{2}\\bigr)^{5-2}\n",
    "$$\n",
    "\n",
    "$$\n",
    "= \\frac{5\\times 4 \\times 3 \\times 2}{3\\times 2 \\times 2} \\times \\frac{1}{4} \\times \\bigl(\\frac{1}{2}\\bigr)^{3}\n",
    "$$\n",
    "\n",
    "$$\n",
    "= \\frac{20}{2} \\times \\frac{1}{4} \\times \\frac{1}{8}\n",
    "$$\n",
    "\n",
    "$$\n",
    "= \\frac{10}{32} = 0.3125\n",
    "$$"
   ]
  },
  {
   "cell_type": "code",
   "execution_count": null,
   "metadata": {},
   "outputs": [],
   "source": []
  }
 ],
 "metadata": {
  "kernelspec": {
   "display_name": "Python 3",
   "language": "python",
   "name": "python3"
  },
  "language_info": {
   "codemirror_mode": {
    "name": "ipython",
    "version": 3
   },
   "file_extension": ".py",
   "mimetype": "text/x-python",
   "name": "python",
   "nbconvert_exporter": "python",
   "pygments_lexer": "ipython3",
   "version": "3.6.8"
  }
 },
 "nbformat": 4,
 "nbformat_minor": 2
}
